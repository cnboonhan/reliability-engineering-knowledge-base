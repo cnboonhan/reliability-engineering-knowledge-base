{
 "cells": [
  {
   "cell_type": "markdown",
   "id": "00cf6417-4b89-447e-b7f9-be0cefdee830",
   "metadata": {},
   "source": [
    "# Query Optimization\n",
    "\n",
    "This lab will demonstrate ways to tune the performance of a database application by optimizing SQL queries."
   ]
  },
  {
   "cell_type": "markdown",
   "id": "9a63e048-04f6-4d7f-90c9-4bd8ddb55eef",
   "metadata": {
    "tags": []
   },
   "source": [
    "## Pre-Requisites\n",
    "1. Load the Account Dataset from `initialize_database.ipynb`"
   ]
  },
  {
   "cell_type": "markdown",
   "id": "f67318ec-4963-40fb-8468-56908da71e0b",
   "metadata": {},
   "source": [
    "## Avoid using SELECT *\n",
    "`SELECT *` returns all columns in a table that meet the constraints of the `SELECT` statement.\n",
    "\n",
    "* Using `SELECT *` makes the response columns opaque; A change in database schema will change the results of the `SELECT`. This makes it harder to reason and profile the database.\n",
    "* `SELECT *` often retrieves more data than needed, causing higher traffic load and adding latency.\n",
    "\n",
    "Instead, specify the columns required explicitly."
   ]
  },
  {
   "cell_type": "code",
   "execution_count": 1,
   "id": "5249305f-832a-4612-9aca-92f00d9e140e",
   "metadata": {
    "tags": []
   },
   "outputs": [
    {
     "name": "stdout",
     "output_type": "stream",
     "text": [
      "AVG Time taken for SELECT *: 41.5ms\n",
      "AVG Time taken for targeted SELECT: 21.7ms\n"
     ]
    },
    {
     "name": "stderr",
     "output_type": "stream",
     "text": [
      "[========================>] Parsed 3559 bytes of 3559 (100.00%), queries: 48, events: 0\n",
      "LOG: Ok, generating html report...\n"
     ]
    }
   ],
   "source": [
    "### AVOID SELECT *\n",
    "from LabDatabaseHandler import LabDatabaseHandler\n",
    "db = LabDatabaseHandler()\n",
    "\n",
    "db.reset_logs()\n",
    "\n",
    "repeat = 10\n",
    "sql = 'select * from account_dataset'\n",
    "print(f\"AVG Time taken for SELECT *: {db.execute(sql, repeat=repeat).print_duration()}\")\n",
    "sql = 'select email from account_dataset'\n",
    "print(f\"AVG Time taken for targeted SELECT: {db.execute(sql, repeat=repeat).print_duration()}\")\n",
    "\n",
    "db.generate_db_report()"
   ]
  },
  {
   "cell_type": "markdown",
   "id": "a555afc3-cfcd-44ff-b428-46dd0236fcfa",
   "metadata": {},
   "source": [
    "### Avoid using SELECT DISTINCT\n",
    "\n",
    "`SELECT DISTINCT` returns unique rows in a table that meet the constraints of the `SELECT` statement. However, it is expensive operation."
   ]
  },
  {
   "cell_type": "markdown",
   "id": "38cfda91-a668-4eee-8619-279542eb0956",
   "metadata": {},
   "source": [
    "* `SELECT DISTINCT` is used "
   ]
  }
 ],
 "metadata": {
  "kernelspec": {
   "display_name": "Python 3 (ipykernel)",
   "language": "python",
   "name": "python3"
  },
  "language_info": {
   "codemirror_mode": {
    "name": "ipython",
    "version": 3
   },
   "file_extension": ".py",
   "mimetype": "text/x-python",
   "name": "python",
   "nbconvert_exporter": "python",
   "pygments_lexer": "ipython3",
   "version": "3.10.9"
  }
 },
 "nbformat": 4,
 "nbformat_minor": 5
}
