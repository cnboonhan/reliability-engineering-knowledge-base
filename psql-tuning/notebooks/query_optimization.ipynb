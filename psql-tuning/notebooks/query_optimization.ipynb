{
 "cells": [
  {
   "cell_type": "markdown",
   "id": "00cf6417-4b89-447e-b7f9-be0cefdee830",
   "metadata": {},
   "source": [
    "# Query Optimization"
   ]
  },
  {
   "cell_type": "markdown",
   "id": "9a63e048-04f6-4d7f-90c9-4bd8ddb55eef",
   "metadata": {},
   "source": [
    "## Pre-Requisites\n",
    "1. Load the Account Dataset from `initialize_database.ipynb`"
   ]
  },
  {
   "cell_type": "code",
   "execution_count": null,
   "id": "5249305f-832a-4612-9aca-92f00d9e140e",
   "metadata": {
    "tags": []
   },
   "outputs": [],
   "source": [
    "### SELECT \n",
    "from LabDatabaseHandler import LabDatabaseHandler\n",
    "db = LabDatabaseHandler()\n",
    "sql = 'select * from account_dataset'\n",
    "\n",
    "db.execute(sql)"
   ]
  },
  {
   "cell_type": "code",
   "execution_count": null,
   "id": "fb502291-1616-430f-8f08-390028536b2b",
   "metadata": {},
   "outputs": [],
   "source": []
  }
 ],
 "metadata": {
  "kernelspec": {
   "display_name": "Python 3 (ipykernel)",
   "language": "python",
   "name": "python3"
  },
  "language_info": {
   "codemirror_mode": {
    "name": "ipython",
    "version": 3
   },
   "file_extension": ".py",
   "mimetype": "text/x-python",
   "name": "python",
   "nbconvert_exporter": "python",
   "pygments_lexer": "ipython3",
   "version": "3.10.9"
  }
 },
 "nbformat": 4,
 "nbformat_minor": 5
}
