{
 "cells": [
  {
   "cell_type": "markdown",
   "id": "00cf6417-4b89-447e-b7f9-be0cefdee830",
   "metadata": {},
   "source": [
    "# Query Optimization\n",
    "\n",
    "This lab will demonstrate ways to tune the performance of a database application by optimizing SQL queries."
   ]
  },
  {
   "cell_type": "markdown",
   "id": "9a63e048-04f6-4d7f-90c9-4bd8ddb55eef",
   "metadata": {
    "tags": []
   },
   "source": [
    "## Pre-Requisites\n",
    "1. Load the Account Dataset from `initialize_database.ipynb`"
   ]
  },
  {
   "cell_type": "markdown",
   "id": "f67318ec-4963-40fb-8468-56908da71e0b",
   "metadata": {},
   "source": [
    "## Avoid using SELECT *\n",
    "* Using `SELECT *` makes the response columns opaque; A change in database schema will change the results of the `SELECT`. \n",
    "* `SELECT *` often retrieves more data than needed, causing higher traffic load and adding latency.\n",
    "\n",
    "Instead, specify the columns required explicitly."
   ]
  },
  {
   "cell_type": "code",
   "execution_count": 1,
   "id": "5249305f-832a-4612-9aca-92f00d9e140e",
   "metadata": {
    "tags": []
   },
   "outputs": [
    {
     "name": "stdout",
     "output_type": "stream",
     "text": [
      "AVG Time taken for SELECT *: 44.8ms\n",
      "AVG Time taken for targeted SELECT: 16.0ms\n"
     ]
    },
    {
     "name": "stderr",
     "output_type": "stream",
     "text": [
      "[========================>] Parsed 1649 bytes of 1649 (100.00%), queries: 22, events: 0\n",
      "LOG: Ok, generating html report...\n"
     ]
    }
   ],
   "source": [
    "### AVOID SELECT *\n",
    "from LabDatabaseHandler import LabDatabaseHandler\n",
    "db = LabDatabaseHandler()\n",
    "db.reset_logs()\n",
    "\n",
    "repeat_times = 10\n",
    "\n",
    "sql = 'select * from account_dataset'\n",
    "print(f\"AVG Time taken for SELECT *: {db.execute(sql, repeat=5).print_duration()}\")\n",
    "\n",
    "sql = 'select email from account_dataset'\n",
    "print(f\"AVG Time taken for targeted SELECT: {db.execute(sql, repeat=5).print_duration()}\")\n",
    "db.generate_db_report()"
   ]
  },
  {
   "cell_type": "code",
   "execution_count": null,
   "id": "313e2d33-ed28-4ff5-b26a-d7d55cad2ba3",
   "metadata": {},
   "outputs": [],
   "source": []
  }
 ],
 "metadata": {
  "kernelspec": {
   "display_name": "Python 3 (ipykernel)",
   "language": "python",
   "name": "python3"
  },
  "language_info": {
   "codemirror_mode": {
    "name": "ipython",
    "version": 3
   },
   "file_extension": ".py",
   "mimetype": "text/x-python",
   "name": "python",
   "nbconvert_exporter": "python",
   "pygments_lexer": "ipython3",
   "version": "3.10.9"
  }
 },
 "nbformat": 4,
 "nbformat_minor": 5
}
