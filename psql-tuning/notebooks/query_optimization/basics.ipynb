{
 "cells": [
  {
   "cell_type": "markdown",
   "id": "00cf6417-4b89-447e-b7f9-be0cefdee830",
   "metadata": {},
   "source": [
    "# Query Optimization"
   ]
  },
  {
   "cell_type": "code",
   "execution_count": 4,
   "id": "cf2ade32-253d-4fd4-9669-d18c026e43d9",
   "metadata": {},
   "outputs": [],
   "source": [
    "import faker"
   ]
  },
  {
   "cell_type": "code",
   "execution_count": null,
   "id": "3aec621a-967a-48b1-b5aa-22f2d466d288",
   "metadata": {},
   "outputs": [],
   "source": []
  }
 ],
 "metadata": {
  "kernelspec": {
   "display_name": "Python 3 (ipykernel)",
   "language": "python",
   "name": "python3"
  },
  "language_info": {
   "codemirror_mode": {
    "name": "ipython",
    "version": 3
   },
   "file_extension": ".py",
   "mimetype": "text/x-python",
   "name": "python",
   "nbconvert_exporter": "python",
   "pygments_lexer": "ipython3",
   "version": "3.10.9"
  }
 },
 "nbformat": 4,
 "nbformat_minor": 5
}
