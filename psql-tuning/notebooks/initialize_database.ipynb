{
 "cells": [
  {
   "cell_type": "markdown",
   "id": "92c4da31-c75a-42f6-91d0-bd8d8fb96a72",
   "metadata": {},
   "source": [
    "# Database Initialization Scripts"
   ]
  },
  {
   "cell_type": "markdown",
   "id": "f960b8ec-15a8-4dfa-93b2-6460e01d548d",
   "metadata": {},
   "source": [
    "The scripts here will create data sets to be used in subsequent labs."
   ]
  },
  {
   "cell_type": "code",
   "execution_count": 23,
   "id": "2cf27250-8eeb-4fdd-a622-fee8039caa85",
   "metadata": {
    "tags": []
   },
   "outputs": [],
   "source": [
    "# Run this first!\n",
    "from faker import Faker\n",
    "import psycopg2\n",
    "from tqdm import tqdm\n",
    "\n",
    "Faker.seed(0)\n",
    "\n",
    "conn = psycopg2.connect(\n",
    "    host=\"postgresql.psql-tuning\",\n",
    "    database=\"postgres\",\n",
    "    user=\"postgres\",\n",
    "    password=\"postgres\",\n",
    "    port=5432)\n",
    "cur = conn.cursor()\n",
    "fake = Faker()\n",
    "conn.rollback()"
   ]
  },
  {
   "cell_type": "markdown",
   "id": "92388dd4-3795-4df5-a1ac-7fb36de7fe18",
   "metadata": {},
   "source": [
    "## Account Dataset"
   ]
  },
  {
   "cell_type": "code",
   "execution_count": 24,
   "id": "51766555-7e3e-43dc-8ccc-1333cd683b7f",
   "metadata": {
    "tags": []
   },
   "outputs": [],
   "source": [
    "# Reset Table\n",
    "cur.execute('DROP TABLE IF EXISTS account_dataset')\n",
    "\n",
    "sql = \"\"\"\n",
    "CREATE TABLE account_dataset (\n",
    "    user_id VARCHAR ( 50 ) PRIMARY KEY,\n",
    "    username VARCHAR ( 50 ) UNIQUE NOT NULL,\n",
    "    password VARCHAR ( 50 ) NOT NULL,\n",
    "    email VARCHAR ( 255 ) UNIQUE NOT NULL,\n",
    "    created_on INTEGER NOT NULL\n",
    ");\n",
    "\"\"\"\n",
    "cur.execute(sql)\n",
    "conn.commit()\n",
    "fake.unique.clear()"
   ]
  },
  {
   "cell_type": "code",
   "execution_count": 25,
   "id": "1bac2931-da4c-4895-a93c-69d860c0dec1",
   "metadata": {
    "tags": []
   },
   "outputs": [
    {
     "name": "stderr",
     "output_type": "stream",
     "text": [
      "100%|██████████| 50000/50000 [00:11<00:00, 4184.77it/s]\n",
      "100%|██████████| 50000/50000 [00:10<00:00, 4752.50it/s]\n",
      "100%|██████████| 50000/50000 [00:01<00:00, 34615.51it/s]\n",
      "100%|██████████| 50000/50000 [00:10<00:00, 4705.74it/s]\n",
      "100%|██████████| 50000/50000 [00:00<00:00, 56886.54it/s]\n",
      "100%|██████████| 50000/50000 [00:14<00:00, 3516.94it/s]\n"
     ]
    }
   ],
   "source": [
    "# Populate Table\n",
    "count = 50000\n",
    "try:\n",
    "    user_ids = [fake.unique.name() for i in tqdm(range(count))]\n",
    "    usernames = [fake.unique.user_name() for i in tqdm(range(count))]\n",
    "    passwords = [fake.unique.password() for i in tqdm(range(count))]\n",
    "    emails = [fake.unique.email() for i in tqdm(range(count))]\n",
    "    created_on = [fake.unique.unix_time() for i in tqdm(range(count))]\n",
    "    \n",
    "    for i in tqdm(range(count)):\n",
    "        sql = f\"INSERT INTO account_dataset (user_id, username, password, email, created_on) VALUES ('{user_ids[i]}', '{usernames[i]}', '{passwords[i]}', '{emails[i]}', '{created_on[i]}')\"\n",
    "        cur.execute(sql)\n",
    "except Exception as e:\n",
    "    print(type(e))\n",
    "    print(e)\n",
    "    conn.rollback()\n",
    "\n",
    "conn.commit()"
   ]
  }
 ],
 "metadata": {
  "kernelspec": {
   "display_name": "Python 3 (ipykernel)",
   "language": "python",
   "name": "python3"
  },
  "language_info": {
   "codemirror_mode": {
    "name": "ipython",
    "version": 3
   },
   "file_extension": ".py",
   "mimetype": "text/x-python",
   "name": "python",
   "nbconvert_exporter": "python",
   "pygments_lexer": "ipython3",
   "version": "3.10.9"
  }
 },
 "nbformat": 4,
 "nbformat_minor": 5
}
