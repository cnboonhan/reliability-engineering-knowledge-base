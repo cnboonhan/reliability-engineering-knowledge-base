{
 "cells": [
  {
   "cell_type": "markdown",
   "id": "92c4da31-c75a-42f6-91d0-bd8d8fb96a72",
   "metadata": {},
   "source": [
    "# Initialization"
   ]
  },
  {
   "cell_type": "markdown",
   "id": "f960b8ec-15a8-4dfa-93b2-6460e01d548d",
   "metadata": {},
   "source": [
    "The scripts here will contain pre-requisites to the labs."
   ]
  },
  {
   "cell_type": "markdown",
   "id": "92388dd4-3795-4df5-a1ac-7fb36de7fe18",
   "metadata": {},
   "source": [
    "## Account Dataset"
   ]
  },
  {
   "cell_type": "code",
   "execution_count": 1,
   "id": "51766555-7e3e-43dc-8ccc-1333cd683b7f",
   "metadata": {
    "tags": []
   },
   "outputs": [
    {
     "data": {
      "text/plain": [
       "16"
      ]
     },
     "execution_count": 1,
     "metadata": {},
     "output_type": "execute_result"
    }
   ],
   "source": [
    "# Reset Table\n",
    "from LabDatabaseHandler import LabDatabaseHandler\n",
    "db = LabDatabaseHandler()\n",
    "db.execute('DROP TABLE IF EXISTS account_dataset')\n",
    "\n",
    "sql = \"\"\"\n",
    "CREATE TABLE account_dataset (\n",
    "    user_id VARCHAR ( 50 ) PRIMARY KEY,\n",
    "    username VARCHAR ( 50 ) UNIQUE NOT NULL,\n",
    "    password VARCHAR ( 50 ) NOT NULL,\n",
    "    email VARCHAR ( 255 ) UNIQUE NOT NULL,\n",
    "    created_on INTEGER NOT NULL\n",
    ");\n",
    "\"\"\"\n",
    "db.execute(sql)"
   ]
  },
  {
   "cell_type": "code",
   "execution_count": 2,
   "id": "1bac2931-da4c-4895-a93c-69d860c0dec1",
   "metadata": {
    "tags": []
   },
   "outputs": [
    {
     "name": "stderr",
     "output_type": "stream",
     "text": [
      "100%|██████████| 50000/50000 [00:10<00:00, 4898.35it/s]\n",
      "100%|██████████| 50000/50000 [00:11<00:00, 4257.47it/s]\n",
      "100%|██████████| 50000/50000 [00:02<00:00, 21122.63it/s]\n",
      "100%|██████████| 50000/50000 [00:10<00:00, 4724.20it/s]\n",
      "100%|██████████| 50000/50000 [00:00<00:00, 56021.85it/s]\n",
      "100%|██████████| 50000/50000 [00:15<00:00, 3236.92it/s]\n"
     ]
    }
   ],
   "source": [
    "# Populate Table\n",
    "count = 50000\n",
    "\n",
    "user_ids = [db.fake.unique.name() for i in db.tqdm(count)]\n",
    "usernames = [db.fake.unique.user_name() for i in db.tqdm(count)]\n",
    "passwords = [db.fake.unique.password() for i in db.tqdm(count)]\n",
    "emails = [db.fake.unique.email() for i in db.tqdm(count)]\n",
    "created_on = [db.fake.unique.unix_time() for i in db.tqdm(count)]\n",
    "\n",
    "for i in db.tqdm(count):\n",
    "    sql = f\"INSERT INTO account_dataset (user_id, username, password, email, created_on) VALUES ('{user_ids[i]}', '{usernames[i]}', '{passwords[i]}', '{emails[i]}', '{created_on[i]}')\"\n",
    "    db.execute(sql)\n",
    "db.commit()"
   ]
  },
  {
   "cell_type": "code",
   "execution_count": 3,
   "id": "69439150-362a-44a5-86d7-c84d5f89b466",
   "metadata": {},
   "outputs": [],
   "source": [
    "db.commit()"
   ]
  }
 ],
 "metadata": {
  "kernelspec": {
   "display_name": "Python 3 (ipykernel)",
   "language": "python",
   "name": "python3"
  },
  "language_info": {
   "codemirror_mode": {
    "name": "ipython",
    "version": 3
   },
   "file_extension": ".py",
   "mimetype": "text/x-python",
   "name": "python",
   "nbconvert_exporter": "python",
   "pygments_lexer": "ipython3",
   "version": "3.10.9"
  }
 },
 "nbformat": 4,
 "nbformat_minor": 5
}
