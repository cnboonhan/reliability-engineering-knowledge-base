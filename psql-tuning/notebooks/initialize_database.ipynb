{
 "cells": [
  {
   "cell_type": "markdown",
   "id": "92c4da31-c75a-42f6-91d0-bd8d8fb96a72",
   "metadata": {},
   "source": [
    "# Database Initialization Scripts"
   ]
  },
  {
   "cell_type": "markdown",
   "id": "f960b8ec-15a8-4dfa-93b2-6460e01d548d",
   "metadata": {},
   "source": [
    "The scripts here will contain pre-requisites to the labs."
   ]
  },
  {
   "cell_type": "code",
   "execution_count": 1,
   "id": "1eb8322a-5e92-4544-a77f-edb089d85b70",
   "metadata": {
    "tags": []
   },
   "outputs": [],
   "source": [
    "# Run this before running anything else below\n",
    "from LabDatabaseHandler import LabDatabaseHandler\n",
    "db = LabDatabaseHandler()"
   ]
  },
  {
   "cell_type": "markdown",
   "id": "92388dd4-3795-4df5-a1ac-7fb36de7fe18",
   "metadata": {
    "tags": []
   },
   "source": [
    "## Account Dataset"
   ]
  },
  {
   "cell_type": "code",
   "execution_count": 2,
   "id": "51766555-7e3e-43dc-8ccc-1333cd683b7f",
   "metadata": {
    "tags": []
   },
   "outputs": [],
   "source": [
    "# Reset Table\n",
    "db.execute('DROP TABLE IF EXISTS account_dataset')\n",
    "\n",
    "sql = \"\"\"\n",
    "CREATE TABLE account_dataset (\n",
    "    user_id VARCHAR ( 50 ) PRIMARY KEY,\n",
    "    username VARCHAR ( 50 ) UNIQUE NOT NULL,\n",
    "    password VARCHAR ( 50 ) NOT NULL,\n",
    "    email VARCHAR ( 255 ) NOT NULL,\n",
    "    created_on INTEGER NOT NULL\n",
    ");\n",
    "\"\"\"\n",
    "db.execute(sql);"
   ]
  },
  {
   "cell_type": "code",
   "execution_count": 3,
   "id": "1bac2931-da4c-4895-a93c-69d860c0dec1",
   "metadata": {
    "tags": []
   },
   "outputs": [
    {
     "name": "stderr",
     "output_type": "stream",
     "text": [
      "100%|██████████| 50000/50000 [00:10<00:00, 4719.34it/s]\n",
      "100%|██████████| 50000/50000 [00:11<00:00, 4489.88it/s]\n",
      "100%|██████████| 50000/50000 [00:01<00:00, 43826.92it/s]\n",
      "100%|██████████| 50000/50000 [00:08<00:00, 5843.45it/s]\n",
      "100%|██████████| 50000/50000 [00:00<00:00, 118613.71it/s]\n",
      "100%|██████████| 50000/50000 [00:14<00:00, 3536.18it/s]\n"
     ]
    }
   ],
   "source": [
    "# Populate Table\n",
    "count = 50000\n",
    "\n",
    "user_ids = [db.fake.unique.name() for i in db.tqdm(count)]\n",
    "usernames = [db.fake.unique.user_name() for i in db.tqdm(count)]\n",
    "passwords = [db.fake.password() for i in db.tqdm(count)]\n",
    "emails = [db.fake.email() for i in db.tqdm(count)]\n",
    "created_on = [db.fake.unix_time() for i in db.tqdm(count)]\n",
    "\n",
    "for i in db.tqdm(count):\n",
    "    sql = f\"INSERT INTO account_dataset (user_id, username, password, email, created_on) VALUES ('{user_ids[i]}', '{usernames[i]}', '{passwords[i]}', '{emails[i]}', '{created_on[i]}')\"\n",
    "    db.execute_only(sql)\n",
    "db.commit()"
   ]
  },
  {
   "cell_type": "code",
   "execution_count": null,
   "id": "92313503-3305-4114-9f1c-ebff2550f9d5",
   "metadata": {},
   "outputs": [],
   "source": [
    "# Check certain properties of database\n",
    "\n",
    "# Check there are repeat emails\n",
    "db.execute('SELECT email FROM account_dataset GROUP BY email HAVING COUNT(email) > 1;')\n",
    "assert len(db.cur.fetchall()) > 0, \"No repeated emails detected. Set count variable to a larger number.\""
   ]
  },
  {
   "cell_type": "code",
   "execution_count": null,
   "id": "833cfa0b-663c-42d1-bc86-e6b7cb0e71bc",
   "metadata": {},
   "outputs": [],
   "source": []
  }
 ],
 "metadata": {
  "kernelspec": {
   "display_name": "Python 3 (ipykernel)",
   "language": "python",
   "name": "python3"
  },
  "language_info": {
   "codemirror_mode": {
    "name": "ipython",
    "version": 3
   },
   "file_extension": ".py",
   "mimetype": "text/x-python",
   "name": "python",
   "nbconvert_exporter": "python",
   "pygments_lexer": "ipython3",
   "version": "3.10.9"
  }
 },
 "nbformat": 4,
 "nbformat_minor": 5
}
