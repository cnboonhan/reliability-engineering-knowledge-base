{
 "cells": [
  {
   "cell_type": "markdown",
   "id": "92c4da31-c75a-42f6-91d0-bd8d8fb96a72",
   "metadata": {},
   "source": [
    "# Database Initialization Scripts"
   ]
  },
  {
   "cell_type": "markdown",
   "id": "f960b8ec-15a8-4dfa-93b2-6460e01d548d",
   "metadata": {},
   "source": [
    "The scripts here will create data sets to be used in subsequent labs."
   ]
  },
  {
   "cell_type": "code",
   "execution_count": 57,
   "id": "2cf27250-8eeb-4fdd-a622-fee8039caa85",
   "metadata": {
    "tags": []
   },
   "outputs": [],
   "source": [
    "# Run this first!\n",
    "from faker import Faker\n",
    "import psycopg2\n",
    "\n",
    "Faker.seed(0)\n",
    "\n",
    "conn = psycopg2.connect(\n",
    "    host=\"postgresql.psql-tuning\",\n",
    "    database=\"postgres\",\n",
    "    user=\"postgres\",\n",
    "    password=\"postgres\",\n",
    "    port=5432)\n",
    "cur = conn.cursor()\n",
    "fake = Faker()"
   ]
  },
  {
   "cell_type": "markdown",
   "id": "92388dd4-3795-4df5-a1ac-7fb36de7fe18",
   "metadata": {},
   "source": [
    "## Account Dataset"
   ]
  },
  {
   "cell_type": "code",
   "execution_count": 83,
   "id": "51766555-7e3e-43dc-8ccc-1333cd683b7f",
   "metadata": {
    "tags": []
   },
   "outputs": [],
   "source": [
    "# Reset Table\n",
    "cur.execute('DROP TABLE IF EXISTS account_dataset')\n",
    "\n",
    "sql = \"\"\"\n",
    "CREATE TABLE account_dataset (\n",
    "    user_id VARCHAR ( 50 ) PRIMARY KEY,\n",
    "    username VARCHAR ( 50 ) UNIQUE NOT NULL,\n",
    "    password VARCHAR ( 50 ) NOT NULL,\n",
    "    email VARCHAR ( 255 ) UNIQUE NOT NULL,\n",
    "    created_on TIMESTAMP NOT NULL\n",
    ");\n",
    "\"\"\"\n",
    "cur.execute(sql)\n",
    "conn.commit()"
   ]
  },
  {
   "cell_type": "code",
   "execution_count": 86,
   "id": "1bac2931-da4c-4895-a93c-69d860c0dec1",
   "metadata": {
    "tags": []
   },
   "outputs": [],
   "source": [
    "# Populate Table\n",
    "try:\n",
    "    for i in range(10):\n",
    "        user_id = fake.name()\n",
    "        username = fake.user_name()\n",
    "        password = fake.password()\n",
    "        email = fake.email()\n",
    "        created_on = fake.date()\n",
    "        sql = f\"INSERT INTO account_dataset (user_id, username, password, email, created_on) VALUES ('{user_id}', '{username}', '{password}', '{email}', '{created_on}')\"\n",
    "        cur.execute(sql)\n",
    "except Exception as e:\n",
    "    print(e)\n",
    "    conn.rollback()\n",
    "\n",
    "conn.commit()"
   ]
  },
  {
   "cell_type": "code",
   "execution_count": null,
   "id": "5df4f3b7-8563-4741-935c-a3ce8e9c685c",
   "metadata": {},
   "outputs": [],
   "source": []
  }
 ],
 "metadata": {
  "kernelspec": {
   "display_name": "Python 3 (ipykernel)",
   "language": "python",
   "name": "python3"
  },
  "language_info": {
   "codemirror_mode": {
    "name": "ipython",
    "version": 3
   },
   "file_extension": ".py",
   "mimetype": "text/x-python",
   "name": "python",
   "nbconvert_exporter": "python",
   "pygments_lexer": "ipython3",
   "version": "3.10.9"
  }
 },
 "nbformat": 4,
 "nbformat_minor": 5
}
